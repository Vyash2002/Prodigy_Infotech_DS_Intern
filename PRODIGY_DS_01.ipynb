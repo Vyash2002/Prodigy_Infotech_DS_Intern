{
 "cells": [
  {
   "cell_type": "code",
   "execution_count": 1,
   "id": "805f2239",
   "metadata": {},
   "outputs": [
    {
     "name": "stderr",
     "output_type": "stream",
     "text": [
      "C:\\ProgramData\\Anaconda3\\lib\\site-packages\\scipy\\__init__.py:155: UserWarning: A NumPy version >=1.18.5 and <1.25.0 is required for this version of SciPy (detected version 1.26.2\n",
      "  warnings.warn(f\"A NumPy version >={np_minversion} and <{np_maxversion}\"\n"
     ]
    }
   ],
   "source": [
    "### Importing important libraries ###\n",
    "import numpy as np\n",
    "import pandas as pd\n",
    "import matplotlib.pyplot as plt\n",
    "import seaborn as sns"
   ]
  },
  {
   "cell_type": "markdown",
   "id": "0997a1fa",
   "metadata": {},
   "source": [
    "### Loading the Dataset"
   ]
  },
  {
   "cell_type": "code",
   "execution_count": 2,
   "id": "a87c98f2",
   "metadata": {},
   "outputs": [],
   "source": [
    "net_df = pd.read_csv('netflix_titles_2021.csv')"
   ]
  },
  {
   "cell_type": "code",
   "execution_count": 3,
   "id": "05251358",
   "metadata": {},
   "outputs": [
    {
     "data": {
      "text/html": [
       "<div>\n",
       "<style scoped>\n",
       "    .dataframe tbody tr th:only-of-type {\n",
       "        vertical-align: middle;\n",
       "    }\n",
       "\n",
       "    .dataframe tbody tr th {\n",
       "        vertical-align: top;\n",
       "    }\n",
       "\n",
       "    .dataframe thead th {\n",
       "        text-align: right;\n",
       "    }\n",
       "</style>\n",
       "<table border=\"1\" class=\"dataframe\">\n",
       "  <thead>\n",
       "    <tr style=\"text-align: right;\">\n",
       "      <th></th>\n",
       "      <th>show_id</th>\n",
       "      <th>type</th>\n",
       "      <th>title</th>\n",
       "      <th>director</th>\n",
       "      <th>cast</th>\n",
       "      <th>country</th>\n",
       "      <th>date_added</th>\n",
       "      <th>release_year</th>\n",
       "      <th>rating</th>\n",
       "      <th>duration</th>\n",
       "      <th>listed_in</th>\n",
       "      <th>description</th>\n",
       "    </tr>\n",
       "  </thead>\n",
       "  <tbody>\n",
       "    <tr>\n",
       "      <th>0</th>\n",
       "      <td>s1</td>\n",
       "      <td>Movie</td>\n",
       "      <td>Dick Johnson Is Dead</td>\n",
       "      <td>Kirsten Johnson</td>\n",
       "      <td>NaN</td>\n",
       "      <td>United States</td>\n",
       "      <td>September 25, 2021</td>\n",
       "      <td>2020</td>\n",
       "      <td>PG-13</td>\n",
       "      <td>90 min</td>\n",
       "      <td>Documentaries</td>\n",
       "      <td>As her father nears the end of his life, filmm...</td>\n",
       "    </tr>\n",
       "    <tr>\n",
       "      <th>1</th>\n",
       "      <td>s2</td>\n",
       "      <td>TV Show</td>\n",
       "      <td>Blood &amp; Water</td>\n",
       "      <td>NaN</td>\n",
       "      <td>Ama Qamata, Khosi Ngema, Gail Mabalane, Thaban...</td>\n",
       "      <td>South Africa</td>\n",
       "      <td>September 24, 2021</td>\n",
       "      <td>2021</td>\n",
       "      <td>TV-MA</td>\n",
       "      <td>2 Seasons</td>\n",
       "      <td>International TV Shows, TV Dramas, TV Mysteries</td>\n",
       "      <td>After crossing paths at a party, a Cape Town t...</td>\n",
       "    </tr>\n",
       "    <tr>\n",
       "      <th>2</th>\n",
       "      <td>s3</td>\n",
       "      <td>TV Show</td>\n",
       "      <td>Ganglands</td>\n",
       "      <td>Julien Leclercq</td>\n",
       "      <td>Sami Bouajila, Tracy Gotoas, Samuel Jouy, Nabi...</td>\n",
       "      <td>NaN</td>\n",
       "      <td>September 24, 2021</td>\n",
       "      <td>2021</td>\n",
       "      <td>TV-MA</td>\n",
       "      <td>1 Season</td>\n",
       "      <td>Crime TV Shows, International TV Shows, TV Act...</td>\n",
       "      <td>To protect his family from a powerful drug lor...</td>\n",
       "    </tr>\n",
       "    <tr>\n",
       "      <th>3</th>\n",
       "      <td>s4</td>\n",
       "      <td>TV Show</td>\n",
       "      <td>Jailbirds New Orleans</td>\n",
       "      <td>NaN</td>\n",
       "      <td>NaN</td>\n",
       "      <td>NaN</td>\n",
       "      <td>September 24, 2021</td>\n",
       "      <td>2021</td>\n",
       "      <td>TV-MA</td>\n",
       "      <td>1 Season</td>\n",
       "      <td>Docuseries, Reality TV</td>\n",
       "      <td>Feuds, flirtations and toilet talk go down amo...</td>\n",
       "    </tr>\n",
       "    <tr>\n",
       "      <th>4</th>\n",
       "      <td>s5</td>\n",
       "      <td>TV Show</td>\n",
       "      <td>Kota Factory</td>\n",
       "      <td>NaN</td>\n",
       "      <td>Mayur More, Jitendra Kumar, Ranjan Raj, Alam K...</td>\n",
       "      <td>India</td>\n",
       "      <td>September 24, 2021</td>\n",
       "      <td>2021</td>\n",
       "      <td>TV-MA</td>\n",
       "      <td>2 Seasons</td>\n",
       "      <td>International TV Shows, Romantic TV Shows, TV ...</td>\n",
       "      <td>In a city of coaching centers known to train I...</td>\n",
       "    </tr>\n",
       "  </tbody>\n",
       "</table>\n",
       "</div>"
      ],
      "text/plain": [
       "  show_id     type                  title         director  \\\n",
       "0      s1    Movie   Dick Johnson Is Dead  Kirsten Johnson   \n",
       "1      s2  TV Show          Blood & Water              NaN   \n",
       "2      s3  TV Show              Ganglands  Julien Leclercq   \n",
       "3      s4  TV Show  Jailbirds New Orleans              NaN   \n",
       "4      s5  TV Show           Kota Factory              NaN   \n",
       "\n",
       "                                                cast        country  \\\n",
       "0                                                NaN  United States   \n",
       "1  Ama Qamata, Khosi Ngema, Gail Mabalane, Thaban...   South Africa   \n",
       "2  Sami Bouajila, Tracy Gotoas, Samuel Jouy, Nabi...            NaN   \n",
       "3                                                NaN            NaN   \n",
       "4  Mayur More, Jitendra Kumar, Ranjan Raj, Alam K...          India   \n",
       "\n",
       "           date_added  release_year rating   duration  \\\n",
       "0  September 25, 2021          2020  PG-13     90 min   \n",
       "1  September 24, 2021          2021  TV-MA  2 Seasons   \n",
       "2  September 24, 2021          2021  TV-MA   1 Season   \n",
       "3  September 24, 2021          2021  TV-MA   1 Season   \n",
       "4  September 24, 2021          2021  TV-MA  2 Seasons   \n",
       "\n",
       "                                           listed_in  \\\n",
       "0                                      Documentaries   \n",
       "1    International TV Shows, TV Dramas, TV Mysteries   \n",
       "2  Crime TV Shows, International TV Shows, TV Act...   \n",
       "3                             Docuseries, Reality TV   \n",
       "4  International TV Shows, Romantic TV Shows, TV ...   \n",
       "\n",
       "                                         description  \n",
       "0  As her father nears the end of his life, filmm...  \n",
       "1  After crossing paths at a party, a Cape Town t...  \n",
       "2  To protect his family from a powerful drug lor...  \n",
       "3  Feuds, flirtations and toilet talk go down amo...  \n",
       "4  In a city of coaching centers known to train I...  "
      ]
     },
     "execution_count": 3,
     "metadata": {},
     "output_type": "execute_result"
    }
   ],
   "source": [
    "net_df.head()"
   ]
  },
  {
   "cell_type": "code",
   "execution_count": 4,
   "id": "73e680c7",
   "metadata": {},
   "outputs": [
    {
     "data": {
      "text/plain": [
       "(8807, 12)"
      ]
     },
     "execution_count": 4,
     "metadata": {},
     "output_type": "execute_result"
    }
   ],
   "source": [
    "net_df.shape"
   ]
  },
  {
   "cell_type": "code",
   "execution_count": 5,
   "id": "f8ce850b",
   "metadata": {},
   "outputs": [
    {
     "name": "stdout",
     "output_type": "stream",
     "text": [
      "<class 'pandas.core.frame.DataFrame'>\n",
      "RangeIndex: 8807 entries, 0 to 8806\n",
      "Data columns (total 12 columns):\n",
      " #   Column        Non-Null Count  Dtype \n",
      "---  ------        --------------  ----- \n",
      " 0   show_id       8807 non-null   object\n",
      " 1   type          8807 non-null   object\n",
      " 2   title         8807 non-null   object\n",
      " 3   director      6173 non-null   object\n",
      " 4   cast          7982 non-null   object\n",
      " 5   country       7976 non-null   object\n",
      " 6   date_added    8797 non-null   object\n",
      " 7   release_year  8807 non-null   int64 \n",
      " 8   rating        8803 non-null   object\n",
      " 9   duration      8804 non-null   object\n",
      " 10  listed_in     8807 non-null   object\n",
      " 11  description   8807 non-null   object\n",
      "dtypes: int64(1), object(11)\n",
      "memory usage: 825.8+ KB\n"
     ]
    }
   ],
   "source": [
    "net_df.info()"
   ]
  },
  {
   "cell_type": "markdown",
   "id": "043c1ce0",
   "metadata": {},
   "source": [
    "### Data Cleaning"
   ]
  },
  {
   "cell_type": "code",
   "execution_count": 6,
   "id": "cda55f8e",
   "metadata": {},
   "outputs": [
    {
     "data": {
      "text/plain": [
       "show_id            0\n",
       "type               0\n",
       "title              0\n",
       "director        2634\n",
       "cast             825\n",
       "country          831\n",
       "date_added        10\n",
       "release_year       0\n",
       "rating             4\n",
       "duration           3\n",
       "listed_in          0\n",
       "description        0\n",
       "dtype: int64"
      ]
     },
     "execution_count": 6,
     "metadata": {},
     "output_type": "execute_result"
    }
   ],
   "source": [
    "### Handling Missing values ###\n",
    "\n",
    "net_df.isnull().sum()"
   ]
  },
  {
   "cell_type": "code",
   "execution_count": 7,
   "id": "280fd5b6",
   "metadata": {},
   "outputs": [
    {
     "data": {
      "text/plain": [
       "show_id         0.000000\n",
       "type            0.000000\n",
       "title           0.000000\n",
       "director        0.299080\n",
       "cast            0.093675\n",
       "country         0.094357\n",
       "date_added      0.001135\n",
       "release_year    0.000000\n",
       "rating          0.000454\n",
       "duration        0.000341\n",
       "listed_in       0.000000\n",
       "description     0.000000\n",
       "dtype: float64"
      ]
     },
     "execution_count": 7,
     "metadata": {},
     "output_type": "execute_result"
    }
   ],
   "source": [
    "net_df.isnull().mean()"
   ]
  },
  {
   "cell_type": "markdown",
   "id": "38368db6",
   "metadata": {},
   "source": [
    "### Handling Missing values in 'director' feature"
   ]
  },
  {
   "cell_type": "code",
   "execution_count": 8,
   "id": "d2b40295",
   "metadata": {},
   "outputs": [
    {
     "data": {
      "text/plain": [
       "0"
      ]
     },
     "execution_count": 8,
     "metadata": {},
     "output_type": "execute_result"
    }
   ],
   "source": [
    "# replacing NaN with 'unknown' in director columns\n",
    "net_df['director'] = net_df['director'].fillna('unknown')\n",
    "net_df['director'].isnull().sum()"
   ]
  },
  {
   "cell_type": "markdown",
   "id": "72e8cbd2",
   "metadata": {},
   "source": [
    "### Handling Missing values in 'cast' feature\n"
   ]
  },
  {
   "cell_type": "code",
   "execution_count": 9,
   "id": "966548d8",
   "metadata": {},
   "outputs": [
    {
     "data": {
      "text/plain": [
       "0"
      ]
     },
     "execution_count": 9,
     "metadata": {},
     "output_type": "execute_result"
    }
   ],
   "source": [
    "# replacing NaN with 'unknown' in director columns\n",
    "net_df['cast'] = net_df['cast'].fillna('unknown')\n",
    "net_df['cast'].isnull().sum()"
   ]
  },
  {
   "cell_type": "markdown",
   "id": "92f4d625",
   "metadata": {},
   "source": [
    "### Handling Missing values in 'Counrty' feature\n"
   ]
  },
  {
   "cell_type": "code",
   "execution_count": 10,
   "id": "244800f1",
   "metadata": {},
   "outputs": [
    {
     "data": {
      "text/plain": [
       "0"
      ]
     },
     "execution_count": 10,
     "metadata": {},
     "output_type": "execute_result"
    }
   ],
   "source": [
    "# replacing NaN with 'unknown' in director columns\n",
    "net_df['country'] = net_df['country'].fillna('unknown')\n",
    "net_df['country'].isnull().sum()"
   ]
  },
  {
   "cell_type": "code",
   "execution_count": 11,
   "id": "1a108992",
   "metadata": {},
   "outputs": [
    {
     "data": {
      "text/plain": [
       "show_id         0\n",
       "type            0\n",
       "title           0\n",
       "director        0\n",
       "cast            0\n",
       "country         0\n",
       "date_added      0\n",
       "release_year    0\n",
       "rating          0\n",
       "duration        0\n",
       "listed_in       0\n",
       "description     0\n",
       "dtype: int64"
      ]
     },
     "execution_count": 11,
     "metadata": {},
     "output_type": "execute_result"
    }
   ],
   "source": [
    "net_df.dropna(inplace = True)\n",
    "net_df.isnull().sum()"
   ]
  },
  {
   "cell_type": "markdown",
   "id": "8572c700",
   "metadata": {},
   "source": [
    "### Standardizing"
   ]
  },
  {
   "cell_type": "code",
   "execution_count": 12,
   "id": "8d838e10",
   "metadata": {},
   "outputs": [
    {
     "data": {
      "text/plain": [
       "0    United states\n",
       "1     South africa\n",
       "2          Unknown\n",
       "3          Unknown\n",
       "4            India\n",
       "Name: country, dtype: object"
      ]
     },
     "execution_count": 12,
     "metadata": {},
     "output_type": "execute_result"
    }
   ],
   "source": [
    "net_df['country'] = net_df['country'].apply(lambda x : x.capitalize())\n",
    "net_df.country.head()"
   ]
  },
  {
   "cell_type": "code",
   "execution_count": 13,
   "id": "8780daaf",
   "metadata": {},
   "outputs": [
    {
     "data": {
      "text/html": [
       "<div>\n",
       "<style scoped>\n",
       "    .dataframe tbody tr th:only-of-type {\n",
       "        vertical-align: middle;\n",
       "    }\n",
       "\n",
       "    .dataframe tbody tr th {\n",
       "        vertical-align: top;\n",
       "    }\n",
       "\n",
       "    .dataframe thead th {\n",
       "        text-align: right;\n",
       "    }\n",
       "</style>\n",
       "<table border=\"1\" class=\"dataframe\">\n",
       "  <thead>\n",
       "    <tr style=\"text-align: right;\">\n",
       "      <th></th>\n",
       "      <th>added_month</th>\n",
       "      <th>added_year</th>\n",
       "    </tr>\n",
       "  </thead>\n",
       "  <tbody>\n",
       "    <tr>\n",
       "      <th>0</th>\n",
       "      <td>September</td>\n",
       "      <td>2021</td>\n",
       "    </tr>\n",
       "    <tr>\n",
       "      <th>1</th>\n",
       "      <td>September</td>\n",
       "      <td>2021</td>\n",
       "    </tr>\n",
       "    <tr>\n",
       "      <th>2</th>\n",
       "      <td>September</td>\n",
       "      <td>2021</td>\n",
       "    </tr>\n",
       "    <tr>\n",
       "      <th>3</th>\n",
       "      <td>September</td>\n",
       "      <td>2021</td>\n",
       "    </tr>\n",
       "    <tr>\n",
       "      <th>4</th>\n",
       "      <td>September</td>\n",
       "      <td>2021</td>\n",
       "    </tr>\n",
       "    <tr>\n",
       "      <th>...</th>\n",
       "      <td>...</td>\n",
       "      <td>...</td>\n",
       "    </tr>\n",
       "    <tr>\n",
       "      <th>8802</th>\n",
       "      <td>November</td>\n",
       "      <td>2019</td>\n",
       "    </tr>\n",
       "    <tr>\n",
       "      <th>8803</th>\n",
       "      <td>July</td>\n",
       "      <td>2019</td>\n",
       "    </tr>\n",
       "    <tr>\n",
       "      <th>8804</th>\n",
       "      <td>November</td>\n",
       "      <td>2019</td>\n",
       "    </tr>\n",
       "    <tr>\n",
       "      <th>8805</th>\n",
       "      <td>January</td>\n",
       "      <td>2020</td>\n",
       "    </tr>\n",
       "    <tr>\n",
       "      <th>8806</th>\n",
       "      <td>March</td>\n",
       "      <td>2019</td>\n",
       "    </tr>\n",
       "  </tbody>\n",
       "</table>\n",
       "<p>8790 rows × 2 columns</p>\n",
       "</div>"
      ],
      "text/plain": [
       "     added_month added_year\n",
       "0      September       2021\n",
       "1      September       2021\n",
       "2      September       2021\n",
       "3      September       2021\n",
       "4      September       2021\n",
       "...          ...        ...\n",
       "8802    November       2019\n",
       "8803        July       2019\n",
       "8804    November       2019\n",
       "8805     January       2020\n",
       "8806       March       2019\n",
       "\n",
       "[8790 rows x 2 columns]"
      ]
     },
     "execution_count": 13,
     "metadata": {},
     "output_type": "execute_result"
    }
   ],
   "source": [
    "# converting date_added to month and year\n",
    "net_df['added_month'] = net_df['date_added'].apply(lambda x:x.split(',')[0].split()[0])\n",
    "net_df['added_year'] = net_df['date_added'].apply(lambda x:x.split(',')[1])\n",
    "net_df[['added_month','added_year']]"
   ]
  },
  {
   "cell_type": "code",
   "execution_count": 14,
   "id": "15277151",
   "metadata": {},
   "outputs": [],
   "source": [
    "# droping column 'date_added'\n",
    "net_df.drop('date_added',axis=1,inplace= True)"
   ]
  },
  {
   "cell_type": "code",
   "execution_count": 15,
   "id": "f83854d0",
   "metadata": {},
   "outputs": [],
   "source": [
    "net_df['added_year'] = net_df['added_year'].astype(int)"
   ]
  },
  {
   "cell_type": "code",
   "execution_count": 16,
   "id": "6d4ab8fc",
   "metadata": {},
   "outputs": [
    {
     "data": {
      "text/html": [
       "<div>\n",
       "<style scoped>\n",
       "    .dataframe tbody tr th:only-of-type {\n",
       "        vertical-align: middle;\n",
       "    }\n",
       "\n",
       "    .dataframe tbody tr th {\n",
       "        vertical-align: top;\n",
       "    }\n",
       "\n",
       "    .dataframe thead th {\n",
       "        text-align: right;\n",
       "    }\n",
       "</style>\n",
       "<table border=\"1\" class=\"dataframe\">\n",
       "  <thead>\n",
       "    <tr style=\"text-align: right;\">\n",
       "      <th></th>\n",
       "      <th>show_id</th>\n",
       "      <th>type</th>\n",
       "      <th>title</th>\n",
       "      <th>director</th>\n",
       "      <th>cast</th>\n",
       "      <th>country</th>\n",
       "      <th>release_year</th>\n",
       "      <th>rating</th>\n",
       "      <th>duration</th>\n",
       "      <th>listed_in</th>\n",
       "      <th>description</th>\n",
       "      <th>added_month</th>\n",
       "      <th>added_year</th>\n",
       "    </tr>\n",
       "  </thead>\n",
       "  <tbody>\n",
       "    <tr>\n",
       "      <th>1551</th>\n",
       "      <td>s1552</td>\n",
       "      <td>TV Show</td>\n",
       "      <td>Hilda</td>\n",
       "      <td>unknown</td>\n",
       "      <td>Bella Ramsey, Ameerah Falzon-Ojo, Oliver Nelso...</td>\n",
       "      <td>United kingdom, canada, united states</td>\n",
       "      <td>2021</td>\n",
       "      <td>TV-Y7</td>\n",
       "      <td>2 Seasons</td>\n",
       "      <td>Kids' TV</td>\n",
       "      <td>Fearless, free-spirited Hilda finds new friend...</td>\n",
       "      <td>December</td>\n",
       "      <td>2020</td>\n",
       "    </tr>\n",
       "    <tr>\n",
       "      <th>1696</th>\n",
       "      <td>s1697</td>\n",
       "      <td>TV Show</td>\n",
       "      <td>Polly Pocket</td>\n",
       "      <td>unknown</td>\n",
       "      <td>Emily Tennant, Shannon Chan-Kent, Kazumi Evans...</td>\n",
       "      <td>Canada, united states, ireland</td>\n",
       "      <td>2021</td>\n",
       "      <td>TV-Y</td>\n",
       "      <td>2 Seasons</td>\n",
       "      <td>Kids' TV</td>\n",
       "      <td>After uncovering a magical locket that allows ...</td>\n",
       "      <td>November</td>\n",
       "      <td>2020</td>\n",
       "    </tr>\n",
       "    <tr>\n",
       "      <th>2920</th>\n",
       "      <td>s2921</td>\n",
       "      <td>TV Show</td>\n",
       "      <td>Love Is Blind</td>\n",
       "      <td>unknown</td>\n",
       "      <td>Nick Lachey, Vanessa Lachey</td>\n",
       "      <td>United states</td>\n",
       "      <td>2021</td>\n",
       "      <td>TV-MA</td>\n",
       "      <td>1 Season</td>\n",
       "      <td>Reality TV, Romantic TV Shows</td>\n",
       "      <td>Nick and Vanessa Lachey host this social exper...</td>\n",
       "      <td>February</td>\n",
       "      <td>2020</td>\n",
       "    </tr>\n",
       "    <tr>\n",
       "      <th>3168</th>\n",
       "      <td>s3169</td>\n",
       "      <td>TV Show</td>\n",
       "      <td>Fuller House</td>\n",
       "      <td>unknown</td>\n",
       "      <td>Candace Cameron Bure, Jodie Sweetin, Andrea Ba...</td>\n",
       "      <td>United states</td>\n",
       "      <td>2020</td>\n",
       "      <td>TV-PG</td>\n",
       "      <td>5 Seasons</td>\n",
       "      <td>TV Comedies</td>\n",
       "      <td>The Tanner family’s adventures continue as DJ ...</td>\n",
       "      <td>December</td>\n",
       "      <td>2019</td>\n",
       "    </tr>\n",
       "    <tr>\n",
       "      <th>3287</th>\n",
       "      <td>s3288</td>\n",
       "      <td>TV Show</td>\n",
       "      <td>Maradona in Mexico</td>\n",
       "      <td>unknown</td>\n",
       "      <td>Diego Armando Maradona</td>\n",
       "      <td>Argentina, united states, mexico</td>\n",
       "      <td>2020</td>\n",
       "      <td>TV-MA</td>\n",
       "      <td>1 Season</td>\n",
       "      <td>Docuseries, Spanish-Language TV Shows</td>\n",
       "      <td>In this docuseries, soccer great Diego Maradon...</td>\n",
       "      <td>November</td>\n",
       "      <td>2019</td>\n",
       "    </tr>\n",
       "    <tr>\n",
       "      <th>3369</th>\n",
       "      <td>s3370</td>\n",
       "      <td>TV Show</td>\n",
       "      <td>BoJack Horseman</td>\n",
       "      <td>unknown</td>\n",
       "      <td>Will Arnett, Aaron Paul, Amy Sedaris, Alison B...</td>\n",
       "      <td>United states</td>\n",
       "      <td>2020</td>\n",
       "      <td>TV-MA</td>\n",
       "      <td>6 Seasons</td>\n",
       "      <td>TV Comedies</td>\n",
       "      <td>Meet the most beloved sitcom horse of the '90s...</td>\n",
       "      <td>October</td>\n",
       "      <td>2019</td>\n",
       "    </tr>\n",
       "    <tr>\n",
       "      <th>3433</th>\n",
       "      <td>s3434</td>\n",
       "      <td>TV Show</td>\n",
       "      <td>The Hook Up Plan</td>\n",
       "      <td>unknown</td>\n",
       "      <td>Marc Ruchmann, Zita Hanrot, Sabrina Ouazani, J...</td>\n",
       "      <td>France</td>\n",
       "      <td>2020</td>\n",
       "      <td>TV-MA</td>\n",
       "      <td>2 Seasons</td>\n",
       "      <td>International TV Shows, Romantic TV Shows, TV ...</td>\n",
       "      <td>When Parisian Elsa gets hung up on her ex, her...</td>\n",
       "      <td>October</td>\n",
       "      <td>2019</td>\n",
       "    </tr>\n",
       "    <tr>\n",
       "      <th>4844</th>\n",
       "      <td>s4845</td>\n",
       "      <td>TV Show</td>\n",
       "      <td>Unbreakable Kimmy Schmidt</td>\n",
       "      <td>unknown</td>\n",
       "      <td>Ellie Kemper, Jane Krakowski, Tituss Burgess, ...</td>\n",
       "      <td>United states</td>\n",
       "      <td>2019</td>\n",
       "      <td>TV-14</td>\n",
       "      <td>4 Seasons</td>\n",
       "      <td>TV Comedies</td>\n",
       "      <td>When a woman is rescued from a doomsday cult a...</td>\n",
       "      <td>May</td>\n",
       "      <td>2018</td>\n",
       "    </tr>\n",
       "    <tr>\n",
       "      <th>4845</th>\n",
       "      <td>s4846</td>\n",
       "      <td>TV Show</td>\n",
       "      <td>Arrested Development</td>\n",
       "      <td>unknown</td>\n",
       "      <td>Jason Bateman, Portia de Rossi, Will Arnett, M...</td>\n",
       "      <td>United states</td>\n",
       "      <td>2019</td>\n",
       "      <td>TV-MA</td>\n",
       "      <td>5 Seasons</td>\n",
       "      <td>TV Comedies</td>\n",
       "      <td>It's the Emmy-winning story of a wealthy famil...</td>\n",
       "      <td>May</td>\n",
       "      <td>2018</td>\n",
       "    </tr>\n",
       "    <tr>\n",
       "      <th>5394</th>\n",
       "      <td>s5395</td>\n",
       "      <td>Movie</td>\n",
       "      <td>Hans Teeuwen: Real Rancour</td>\n",
       "      <td>Doesjka van Hoogdalem</td>\n",
       "      <td>Hans Teeuwen</td>\n",
       "      <td>Netherlands</td>\n",
       "      <td>2018</td>\n",
       "      <td>TV-MA</td>\n",
       "      <td>86 min</td>\n",
       "      <td>Stand-Up Comedy</td>\n",
       "      <td>Comedian Hans Teeuwen rebels against political...</td>\n",
       "      <td>July</td>\n",
       "      <td>2017</td>\n",
       "    </tr>\n",
       "    <tr>\n",
       "      <th>5658</th>\n",
       "      <td>s5659</td>\n",
       "      <td>TV Show</td>\n",
       "      <td>Sense8</td>\n",
       "      <td>unknown</td>\n",
       "      <td>Tuppence Middleton, Brian J. Smith, Doona Bae,...</td>\n",
       "      <td>United states</td>\n",
       "      <td>2018</td>\n",
       "      <td>TV-MA</td>\n",
       "      <td>2 Seasons</td>\n",
       "      <td>Crime TV Shows, TV Dramas, TV Mysteries</td>\n",
       "      <td>From the creators of \"The Matrix\" and \"Babylon...</td>\n",
       "      <td>December</td>\n",
       "      <td>2016</td>\n",
       "    </tr>\n",
       "    <tr>\n",
       "      <th>5677</th>\n",
       "      <td>s5678</td>\n",
       "      <td>TV Show</td>\n",
       "      <td>Tokyo Trial</td>\n",
       "      <td>unknown</td>\n",
       "      <td>Marcel Hensema, Paul Freeman, Irrfan Khan, Sta...</td>\n",
       "      <td>Canada, japan, netherlands</td>\n",
       "      <td>2017</td>\n",
       "      <td>TV-MA</td>\n",
       "      <td>1 Season</td>\n",
       "      <td>International TV Shows, TV Dramas</td>\n",
       "      <td>In the wake of World War II, 11 Allied judges ...</td>\n",
       "      <td>December</td>\n",
       "      <td>2016</td>\n",
       "    </tr>\n",
       "    <tr>\n",
       "      <th>7063</th>\n",
       "      <td>s7064</td>\n",
       "      <td>Movie</td>\n",
       "      <td>Incoming</td>\n",
       "      <td>Eric Zaragosa</td>\n",
       "      <td>Scott Adkins, Aaron McCusker, Vahldin Prelic, ...</td>\n",
       "      <td>Serbia, united states</td>\n",
       "      <td>2019</td>\n",
       "      <td>TV-MA</td>\n",
       "      <td>89 min</td>\n",
       "      <td>Action &amp; Adventure, Sci-Fi &amp; Fantasy</td>\n",
       "      <td>When an imprisoned terrorist cell hijacks a hi...</td>\n",
       "      <td>October</td>\n",
       "      <td>2018</td>\n",
       "    </tr>\n",
       "    <tr>\n",
       "      <th>7112</th>\n",
       "      <td>s7113</td>\n",
       "      <td>TV Show</td>\n",
       "      <td>Jack Taylor</td>\n",
       "      <td>Stuart Orme</td>\n",
       "      <td>Iain Glen, Killian Scott, Nora-Jane Noone, Tar...</td>\n",
       "      <td>United states, ireland</td>\n",
       "      <td>2016</td>\n",
       "      <td>TV-MA</td>\n",
       "      <td>1 Season</td>\n",
       "      <td>Crime TV Shows, International TV Shows, TV Dramas</td>\n",
       "      <td>Ken Bruen's bestselling crime novels leap to l...</td>\n",
       "      <td>March</td>\n",
       "      <td>2013</td>\n",
       "    </tr>\n",
       "  </tbody>\n",
       "</table>\n",
       "</div>"
      ],
      "text/plain": [
       "     show_id     type                       title               director  \\\n",
       "1551   s1552  TV Show                       Hilda                unknown   \n",
       "1696   s1697  TV Show                Polly Pocket                unknown   \n",
       "2920   s2921  TV Show               Love Is Blind                unknown   \n",
       "3168   s3169  TV Show                Fuller House                unknown   \n",
       "3287   s3288  TV Show          Maradona in Mexico                unknown   \n",
       "3369   s3370  TV Show             BoJack Horseman                unknown   \n",
       "3433   s3434  TV Show            The Hook Up Plan                unknown   \n",
       "4844   s4845  TV Show   Unbreakable Kimmy Schmidt                unknown   \n",
       "4845   s4846  TV Show        Arrested Development                unknown   \n",
       "5394   s5395    Movie  Hans Teeuwen: Real Rancour  Doesjka van Hoogdalem   \n",
       "5658   s5659  TV Show                      Sense8                unknown   \n",
       "5677   s5678  TV Show                 Tokyo Trial                unknown   \n",
       "7063   s7064    Movie                    Incoming          Eric Zaragosa   \n",
       "7112   s7113  TV Show                 Jack Taylor            Stuart Orme   \n",
       "\n",
       "                                                   cast  \\\n",
       "1551  Bella Ramsey, Ameerah Falzon-Ojo, Oliver Nelso...   \n",
       "1696  Emily Tennant, Shannon Chan-Kent, Kazumi Evans...   \n",
       "2920                        Nick Lachey, Vanessa Lachey   \n",
       "3168  Candace Cameron Bure, Jodie Sweetin, Andrea Ba...   \n",
       "3287                             Diego Armando Maradona   \n",
       "3369  Will Arnett, Aaron Paul, Amy Sedaris, Alison B...   \n",
       "3433  Marc Ruchmann, Zita Hanrot, Sabrina Ouazani, J...   \n",
       "4844  Ellie Kemper, Jane Krakowski, Tituss Burgess, ...   \n",
       "4845  Jason Bateman, Portia de Rossi, Will Arnett, M...   \n",
       "5394                                       Hans Teeuwen   \n",
       "5658  Tuppence Middleton, Brian J. Smith, Doona Bae,...   \n",
       "5677  Marcel Hensema, Paul Freeman, Irrfan Khan, Sta...   \n",
       "7063  Scott Adkins, Aaron McCusker, Vahldin Prelic, ...   \n",
       "7112  Iain Glen, Killian Scott, Nora-Jane Noone, Tar...   \n",
       "\n",
       "                                    country  release_year rating   duration  \\\n",
       "1551  United kingdom, canada, united states          2021  TV-Y7  2 Seasons   \n",
       "1696         Canada, united states, ireland          2021   TV-Y  2 Seasons   \n",
       "2920                          United states          2021  TV-MA   1 Season   \n",
       "3168                          United states          2020  TV-PG  5 Seasons   \n",
       "3287       Argentina, united states, mexico          2020  TV-MA   1 Season   \n",
       "3369                          United states          2020  TV-MA  6 Seasons   \n",
       "3433                                 France          2020  TV-MA  2 Seasons   \n",
       "4844                          United states          2019  TV-14  4 Seasons   \n",
       "4845                          United states          2019  TV-MA  5 Seasons   \n",
       "5394                            Netherlands          2018  TV-MA     86 min   \n",
       "5658                          United states          2018  TV-MA  2 Seasons   \n",
       "5677             Canada, japan, netherlands          2017  TV-MA   1 Season   \n",
       "7063                  Serbia, united states          2019  TV-MA     89 min   \n",
       "7112                 United states, ireland          2016  TV-MA   1 Season   \n",
       "\n",
       "                                              listed_in  \\\n",
       "1551                                           Kids' TV   \n",
       "1696                                           Kids' TV   \n",
       "2920                      Reality TV, Romantic TV Shows   \n",
       "3168                                        TV Comedies   \n",
       "3287              Docuseries, Spanish-Language TV Shows   \n",
       "3369                                        TV Comedies   \n",
       "3433  International TV Shows, Romantic TV Shows, TV ...   \n",
       "4844                                        TV Comedies   \n",
       "4845                                        TV Comedies   \n",
       "5394                                    Stand-Up Comedy   \n",
       "5658            Crime TV Shows, TV Dramas, TV Mysteries   \n",
       "5677                  International TV Shows, TV Dramas   \n",
       "7063               Action & Adventure, Sci-Fi & Fantasy   \n",
       "7112  Crime TV Shows, International TV Shows, TV Dramas   \n",
       "\n",
       "                                            description added_month  \\\n",
       "1551  Fearless, free-spirited Hilda finds new friend...    December   \n",
       "1696  After uncovering a magical locket that allows ...    November   \n",
       "2920  Nick and Vanessa Lachey host this social exper...    February   \n",
       "3168  The Tanner family’s adventures continue as DJ ...    December   \n",
       "3287  In this docuseries, soccer great Diego Maradon...    November   \n",
       "3369  Meet the most beloved sitcom horse of the '90s...     October   \n",
       "3433  When Parisian Elsa gets hung up on her ex, her...     October   \n",
       "4844  When a woman is rescued from a doomsday cult a...         May   \n",
       "4845  It's the Emmy-winning story of a wealthy famil...         May   \n",
       "5394  Comedian Hans Teeuwen rebels against political...        July   \n",
       "5658  From the creators of \"The Matrix\" and \"Babylon...    December   \n",
       "5677  In the wake of World War II, 11 Allied judges ...    December   \n",
       "7063  When an imprisoned terrorist cell hijacks a hi...     October   \n",
       "7112  Ken Bruen's bestselling crime novels leap to l...       March   \n",
       "\n",
       "      added_year  \n",
       "1551        2020  \n",
       "1696        2020  \n",
       "2920        2020  \n",
       "3168        2019  \n",
       "3287        2019  \n",
       "3369        2019  \n",
       "3433        2019  \n",
       "4844        2018  \n",
       "4845        2018  \n",
       "5394        2017  \n",
       "5658        2016  \n",
       "5677        2016  \n",
       "7063        2018  \n",
       "7112        2013  "
      ]
     },
     "execution_count": 16,
     "metadata": {},
     "output_type": "execute_result"
    }
   ],
   "source": [
    "net_df[net_df['added_year']<net_df['release_year']]"
   ]
  },
  {
   "cell_type": "code",
   "execution_count": 17,
   "id": "e7373efa",
   "metadata": {},
   "outputs": [],
   "source": [
    "# date_added_year can't we less than release year,so droping those rows.\n",
    "net_df.drop(net_df[net_df['added_year']<net_df['release_year']].index,inplace = True)"
   ]
  },
  {
   "cell_type": "code",
   "execution_count": 18,
   "id": "18e7c01a",
   "metadata": {},
   "outputs": [
    {
     "data": {
      "text/html": [
       "<div>\n",
       "<style scoped>\n",
       "    .dataframe tbody tr th:only-of-type {\n",
       "        vertical-align: middle;\n",
       "    }\n",
       "\n",
       "    .dataframe tbody tr th {\n",
       "        vertical-align: top;\n",
       "    }\n",
       "\n",
       "    .dataframe thead th {\n",
       "        text-align: right;\n",
       "    }\n",
       "</style>\n",
       "<table border=\"1\" class=\"dataframe\">\n",
       "  <thead>\n",
       "    <tr style=\"text-align: right;\">\n",
       "      <th></th>\n",
       "      <th>show_id</th>\n",
       "      <th>type</th>\n",
       "      <th>title</th>\n",
       "      <th>director</th>\n",
       "      <th>cast</th>\n",
       "      <th>country</th>\n",
       "      <th>release_year</th>\n",
       "      <th>rating</th>\n",
       "      <th>duration</th>\n",
       "      <th>listed_in</th>\n",
       "      <th>description</th>\n",
       "      <th>added_month</th>\n",
       "      <th>added_year</th>\n",
       "    </tr>\n",
       "  </thead>\n",
       "  <tbody>\n",
       "    <tr>\n",
       "      <th>0</th>\n",
       "      <td>s1</td>\n",
       "      <td>Movie</td>\n",
       "      <td>Dick Johnson Is Dead</td>\n",
       "      <td>Kirsten Johnson</td>\n",
       "      <td>unknown</td>\n",
       "      <td>United states</td>\n",
       "      <td>2020</td>\n",
       "      <td>PG-13</td>\n",
       "      <td>90 min</td>\n",
       "      <td>Documentaries</td>\n",
       "      <td>As her father nears the end of his life, filmm...</td>\n",
       "      <td>September</td>\n",
       "      <td>2021</td>\n",
       "    </tr>\n",
       "    <tr>\n",
       "      <th>1</th>\n",
       "      <td>s2</td>\n",
       "      <td>TV Show</td>\n",
       "      <td>Blood &amp; Water</td>\n",
       "      <td>unknown</td>\n",
       "      <td>Ama Qamata, Khosi Ngema, Gail Mabalane, Thaban...</td>\n",
       "      <td>South africa</td>\n",
       "      <td>2021</td>\n",
       "      <td>TV-MA</td>\n",
       "      <td>2 Seasons</td>\n",
       "      <td>International TV Shows, TV Dramas, TV Mysteries</td>\n",
       "      <td>After crossing paths at a party, a Cape Town t...</td>\n",
       "      <td>September</td>\n",
       "      <td>2021</td>\n",
       "    </tr>\n",
       "    <tr>\n",
       "      <th>2</th>\n",
       "      <td>s3</td>\n",
       "      <td>TV Show</td>\n",
       "      <td>Ganglands</td>\n",
       "      <td>Julien Leclercq</td>\n",
       "      <td>Sami Bouajila, Tracy Gotoas, Samuel Jouy, Nabi...</td>\n",
       "      <td>Unknown</td>\n",
       "      <td>2021</td>\n",
       "      <td>TV-MA</td>\n",
       "      <td>1 Season</td>\n",
       "      <td>Crime TV Shows, International TV Shows, TV Act...</td>\n",
       "      <td>To protect his family from a powerful drug lor...</td>\n",
       "      <td>September</td>\n",
       "      <td>2021</td>\n",
       "    </tr>\n",
       "    <tr>\n",
       "      <th>3</th>\n",
       "      <td>s4</td>\n",
       "      <td>TV Show</td>\n",
       "      <td>Jailbirds New Orleans</td>\n",
       "      <td>unknown</td>\n",
       "      <td>unknown</td>\n",
       "      <td>Unknown</td>\n",
       "      <td>2021</td>\n",
       "      <td>TV-MA</td>\n",
       "      <td>1 Season</td>\n",
       "      <td>Docuseries, Reality TV</td>\n",
       "      <td>Feuds, flirtations and toilet talk go down amo...</td>\n",
       "      <td>September</td>\n",
       "      <td>2021</td>\n",
       "    </tr>\n",
       "    <tr>\n",
       "      <th>4</th>\n",
       "      <td>s5</td>\n",
       "      <td>TV Show</td>\n",
       "      <td>Kota Factory</td>\n",
       "      <td>unknown</td>\n",
       "      <td>Mayur More, Jitendra Kumar, Ranjan Raj, Alam K...</td>\n",
       "      <td>India</td>\n",
       "      <td>2021</td>\n",
       "      <td>TV-MA</td>\n",
       "      <td>2 Seasons</td>\n",
       "      <td>International TV Shows, Romantic TV Shows, TV ...</td>\n",
       "      <td>In a city of coaching centers known to train I...</td>\n",
       "      <td>September</td>\n",
       "      <td>2021</td>\n",
       "    </tr>\n",
       "  </tbody>\n",
       "</table>\n",
       "</div>"
      ],
      "text/plain": [
       "  show_id     type                  title         director  \\\n",
       "0      s1    Movie   Dick Johnson Is Dead  Kirsten Johnson   \n",
       "1      s2  TV Show          Blood & Water          unknown   \n",
       "2      s3  TV Show              Ganglands  Julien Leclercq   \n",
       "3      s4  TV Show  Jailbirds New Orleans          unknown   \n",
       "4      s5  TV Show           Kota Factory          unknown   \n",
       "\n",
       "                                                cast        country  \\\n",
       "0                                            unknown  United states   \n",
       "1  Ama Qamata, Khosi Ngema, Gail Mabalane, Thaban...   South africa   \n",
       "2  Sami Bouajila, Tracy Gotoas, Samuel Jouy, Nabi...        Unknown   \n",
       "3                                            unknown        Unknown   \n",
       "4  Mayur More, Jitendra Kumar, Ranjan Raj, Alam K...          India   \n",
       "\n",
       "   release_year rating   duration  \\\n",
       "0          2020  PG-13     90 min   \n",
       "1          2021  TV-MA  2 Seasons   \n",
       "2          2021  TV-MA   1 Season   \n",
       "3          2021  TV-MA   1 Season   \n",
       "4          2021  TV-MA  2 Seasons   \n",
       "\n",
       "                                           listed_in  \\\n",
       "0                                      Documentaries   \n",
       "1    International TV Shows, TV Dramas, TV Mysteries   \n",
       "2  Crime TV Shows, International TV Shows, TV Act...   \n",
       "3                             Docuseries, Reality TV   \n",
       "4  International TV Shows, Romantic TV Shows, TV ...   \n",
       "\n",
       "                                         description added_month  added_year  \n",
       "0  As her father nears the end of his life, filmm...   September        2021  \n",
       "1  After crossing paths at a party, a Cape Town t...   September        2021  \n",
       "2  To protect his family from a powerful drug lor...   September        2021  \n",
       "3  Feuds, flirtations and toilet talk go down amo...   September        2021  \n",
       "4  In a city of coaching centers known to train I...   September        2021  "
      ]
     },
     "execution_count": 18,
     "metadata": {},
     "output_type": "execute_result"
    }
   ],
   "source": [
    "net_df.head()"
   ]
  },
  {
   "cell_type": "markdown",
   "id": "bcc70ea3",
   "metadata": {},
   "source": [
    "### Univariate Analysis"
   ]
  },
  {
   "cell_type": "code",
   "execution_count": 19,
   "id": "f62bc10d",
   "metadata": {},
   "outputs": [
    {
     "data": {
      "text/plain": [
       "array(['Movie', 'TV Show'], dtype=object)"
      ]
     },
     "execution_count": 19,
     "metadata": {},
     "output_type": "execute_result"
    }
   ],
   "source": [
    "net_df['type'].unique()"
   ]
  },
  {
   "cell_type": "code",
   "execution_count": 21,
   "id": "d4cfb999",
   "metadata": {},
   "outputs": [
    {
     "data": {
      "text/plain": [
       "Movie      0.697812\n",
       "TV Show    0.302188\n",
       "Name: type, dtype: float64"
      ]
     },
     "execution_count": 21,
     "metadata": {},
     "output_type": "execute_result"
    }
   ],
   "source": [
    "net_df['type'].value_counts(normalize = True)"
   ]
  },
  {
   "cell_type": "code",
   "execution_count": 23,
   "id": "60c6f9f8",
   "metadata": {},
   "outputs": [
    {
     "data": {
      "text/plain": [
       "<AxesSubplot:>"
      ]
     },
     "execution_count": 23,
     "metadata": {},
     "output_type": "execute_result"
    },
    {
     "data": {
      "image/png": "[encoded data removed]",
      "text/plain": [
       "<Figure size 640x480 with 1 Axes>"
      ]
     },
     "metadata": {},
     "output_type": "display_data"
    }
   ],
   "source": [
    "net_df['type'].value_counts(normalize = True).plot.bar()"
   ]
  },
  {
   "cell_type": "code",
   "execution_count": 24,
   "id": "9027d5a9",
   "metadata": {},
   "outputs": [
    {
     "data": {
      "text/plain": [
       "array(['Kirsten Johnson', 'unknown', 'Julien Leclercq', ...,\n",
       "       'Majid Al Ansari', 'Peter Hewitt', 'Mozez Singh'], dtype=object)"
      ]
     },
     "execution_count": 24,
     "metadata": {},
     "output_type": "execute_result"
    }
   ],
   "source": [
    "net_df['director'].unique()"
   ]
  },
  {
   "cell_type": "code",
   "execution_count": 25,
   "id": "06ffa524",
   "metadata": {},
   "outputs": [
    {
     "data": {
      "text/plain": [
       "unknown                           2610\n",
       "Rajiv Chilaka                       19\n",
       "Raúl Campos, Jan Suter              18\n",
       "Marcus Raboy                        16\n",
       "Suhas Kadav                         16\n",
       "                                  ... \n",
       "Raymie Muzquiz, Stu Livingston       1\n",
       "Joe Menendez                         1\n",
       "Eric Bross                           1\n",
       "Will Eisenberg                       1\n",
       "Mozez Singh                          1\n",
       "Name: director, Length: 4524, dtype: int64"
      ]
     },
     "execution_count": 25,
     "metadata": {},
     "output_type": "execute_result"
    }
   ],
   "source": [
    "net_df['director'].value_counts()"
   ]
  },
  {
   "cell_type": "code",
   "execution_count": 26,
   "id": "4161f816",
   "metadata": {},
   "outputs": [
    {
     "data": {
      "text/plain": [
       "array(['United states', 'South africa', 'Unknown', 'India',\n",
       "       'United states, ghana, burkina faso, united kingdom, germany, ethiopia',\n",
       "       'United kingdom', 'Germany, czech republic', 'Mexico', 'Turkey',\n",
       "       'Australia', 'United states, india, france', 'Finland',\n",
       "       'China, canada, united states',\n",
       "       'South africa, united states, japan', 'Nigeria', 'Japan',\n",
       "       'Spain, united states', 'France', 'Belgium',\n",
       "       'United kingdom, united states', 'United states, united kingdom',\n",
       "       'France, united states', 'South korea', 'Spain',\n",
       "       'United states, singapore', 'United kingdom, australia, france',\n",
       "       'United kingdom, australia, france, united states',\n",
       "       'United states, canada', 'Germany, united states',\n",
       "       'South africa, united states', 'United states, mexico',\n",
       "       'United states, italy, france, japan',\n",
       "       'United states, italy, romania, united kingdom',\n",
       "       'Australia, united states', 'Argentina, venezuela',\n",
       "       'United states, united kingdom, canada', 'China, hong kong',\n",
       "       'Russia', 'Canada', 'Hong kong', 'United states, china, hong kong',\n",
       "       'Italy, united states', 'United states, germany',\n",
       "       'United kingdom, canada, united states', ', south korea',\n",
       "       'Ireland', 'India, nepal',\n",
       "       'New zealand, australia, france, united states', 'Italy',\n",
       "       'Italy, brazil, greece', 'Argentina', 'Jordan', 'Colombia',\n",
       "       'United states, japan', 'Belgium, united kingdom',\n",
       "       'Switzerland, united kingdom, australia', 'Israel, united states',\n",
       "       'Canada, united states', 'Brazil', 'Argentina, spain', 'Taiwan',\n",
       "       'United states, nigeria', 'Bulgaria, united states',\n",
       "       'Spain, united kingdom, united states', 'United states, china',\n",
       "       'United states, france',\n",
       "       'Spain, france, united kingdom, united states',\n",
       "       ', france, algeria', 'Poland', 'Germany',\n",
       "       'France, israel, germany, united states, united kingdom',\n",
       "       'New zealand', 'Saudi arabia', 'Thailand', 'Indonesia',\n",
       "       'Egypt, denmark, germany', 'United states, switzerland',\n",
       "       'Hong kong, canada, united states', 'Kuwait, united states',\n",
       "       'France, canada, united states, spain',\n",
       "       'France, netherlands, singapore', 'France, belgium',\n",
       "       'Ireland, united states, united kingdom', 'Egypt', 'Malaysia',\n",
       "       'Israel', 'Australia, new zealand', 'United kingdom, germany',\n",
       "       'Belgium, netherlands', 'South korea, czech republic',\n",
       "       'Australia, germany', 'Vietnam', 'United kingdom, belgium',\n",
       "       'United kingdom, australia, united states',\n",
       "       'France, japan, united states',\n",
       "       'United kingdom, germany, spain, united states',\n",
       "       'United kingdom, united states, france, italy',\n",
       "       'United states, germany, canada',\n",
       "       'United states, france, italy, united kingdom',\n",
       "       'United states, united kingdom, germany, hungary',\n",
       "       'United states, new zealand', 'Sweden', 'China', 'Lebanon',\n",
       "       'Romania', 'Finland, germany', 'Lebanon, syria', 'Philippines',\n",
       "       'Iceland', 'Denmark', 'United states, india',\n",
       "       'Philippines, singapore, indonesia',\n",
       "       'China, united states, canada', 'Lebanon, united arab emirates',\n",
       "       'Canada, united states, denmark', 'United arab emirates',\n",
       "       'Mexico, france, colombia', 'Netherlands',\n",
       "       'Germany, united states, france', 'United states, bulgaria',\n",
       "       'United kingdom, france, germany, united states',\n",
       "       'Norway, denmark', 'Syria, france, lebanon, qatar',\n",
       "       'United states, czech republic', 'Mauritius',\n",
       "       'Canada, south africa', 'Austria', 'Mexico, brazil',\n",
       "       'Germany, france', 'Mexico, united states',\n",
       "       'United kingdom, france, spain, united states',\n",
       "       'United states, australia',\n",
       "       'United states, united kingdom, france', 'United states, russia',\n",
       "       'United states, united kingdom, new zealand',\n",
       "       'Australia, united kingdom', 'Canada, nigeria, united states',\n",
       "       'France, united states, united kingdom, canada',\n",
       "       'France, united kingdom', 'India, united kingdom',\n",
       "       'Canada, united states, mexico',\n",
       "       'United kingdom, germany, united states',\n",
       "       'Czech republic, united kingdom, united states',\n",
       "       'China, united kingdom', 'Italy, united kingdom', 'China, taiwan',\n",
       "       'United states, brazil, japan, spain, india',\n",
       "       'United states, china, united kingdom', 'Cameroon',\n",
       "       'Lebanon, palestine, denmark, qatar', 'Japan, united states',\n",
       "       'Uruguay, germany', 'Egypt, saudi arabia',\n",
       "       'United kingdom, france, poland, germany, united states',\n",
       "       'Ireland, switzerland, united kingdom, france, united states',\n",
       "       'United kingdom, south africa, france',\n",
       "       'Ireland, united kingdom, france, germany',\n",
       "       'Russia, united states', 'United kingdom, united states, france',\n",
       "       'United kingdom,', 'United states, india, united kingdom', 'Kenya',\n",
       "       'Spain, argentina', 'India, united kingdom, france, qatar',\n",
       "       'Belgium, france', 'Argentina, chile', 'United states, thailand',\n",
       "       'Chile, brazil', 'United states, colombia',\n",
       "       'Canada, united states, united kingdom', 'Uruguay', 'Luxembourg',\n",
       "       'United states, cambodia, romania', 'Bangladesh',\n",
       "       'Spain, belgium, united states',\n",
       "       'United kingdom, united states, australia',\n",
       "       'Canada, united states, france', 'Portugal, united states',\n",
       "       'Portugal, spain', 'India, united states',\n",
       "       'United kingdom, ireland', 'United kingdom, spain, united states',\n",
       "       'Hungary, united states', 'United states, south korea',\n",
       "       'Canada, united states, cayman islands', 'India, france',\n",
       "       'France, canada', 'Canada, hungary, united states', 'Norway',\n",
       "       'Canada, united kingdom, united states',\n",
       "       'United kingdom, germany, france, united states',\n",
       "       'Denmark, united states', 'Senegal', 'France, algeria',\n",
       "       'United kingdom, finland, germany, united states, australia, japan, france, ireland',\n",
       "       'Philippines, canada, united kingdom, united states',\n",
       "       'Ireland, france, iceland, united states, mexico, belgium, united kingdom, hong kong',\n",
       "       'Singapore', 'Kuwait', 'United states, france, serbia',\n",
       "       'United states, italy', 'Spain, italy',\n",
       "       'United states, ireland, united kingdom, india',\n",
       "       'United kingdom, singapore', 'Hong kong, united states',\n",
       "       'United states, malta, france, united kingdom',\n",
       "       'United states, china, canada', 'Lebanon, canada, france',\n",
       "       'Japan, canada, united states', 'Spain, france, canada',\n",
       "       'Denmark, singapore, canada, united states',\n",
       "       'United states, france, denmark', 'United states, china, colombia',\n",
       "       'Spain, thailand, united states', 'Mexico, spain',\n",
       "       'Ireland, luxembourg, belgium', 'China, united states',\n",
       "       'Canada, belgium', 'Canada, united kingdom',\n",
       "       'Lebanon, united arab emirates, france, switzerland, germany',\n",
       "       'France, belgium, italy',\n",
       "       'Lebanon, united states, united arab emirates', 'Lebanon, france',\n",
       "       'France, lebanon', 'France, lebanon, united kingdom',\n",
       "       'France, norway, lebanon, belgium',\n",
       "       'Sweden, czech republic, united kingdom, denmark, netherlands',\n",
       "       'United states, united kingdom, india', 'Indonesia, netherlands',\n",
       "       'Turkey, south korea', 'Serbia, united states', 'Namibia',\n",
       "       'United kingdom, kenya', 'United kingdom, france, germany, spain',\n",
       "       'United kingdom, france, united states, belgium, luxembourg, china, germany',\n",
       "       'Thailand, united states',\n",
       "       'United states, france, canada, belgium', 'United kingdom, china',\n",
       "       'Germany, china, united kingdom',\n",
       "       'Australia, new zealand, united states',\n",
       "       'Hong kong, iceland, united states', 'France, australia, germany',\n",
       "       'United states, belgium, canada, france', 'South africa, angola',\n",
       "       'United states, philippines',\n",
       "       'United states, united kingdom, canada, china',\n",
       "       'United states, canada, united kingdom', 'Turkey, united states',\n",
       "       'Peru, germany, norway', 'Mozambique', 'Brazil, france',\n",
       "       'China, spain, south korea, united states', 'Spain, germany',\n",
       "       'Hong kong, china', 'France, belgium, luxembourg, cambodia,',\n",
       "       'United kingdom, australia', 'Belarus',\n",
       "       'Indonesia, united kingdom',\n",
       "       'Switzerland, france, belgium, united states', 'Ghana',\n",
       "       'Spain, france, canada, united states', 'Chile, italy',\n",
       "       'United kingdom, nigeria', 'Chile', 'France, egypt',\n",
       "       'Egypt, france', 'France, brazil, spain, belgium',\n",
       "       'Egypt, algeria', 'Canada, south korea, united states',\n",
       "       'Nigeria, united kingdom', 'United states, france, canada',\n",
       "       'Poland, united states',\n",
       "       'United arab emirates, jordan, lebanon, saudi arabia',\n",
       "       'United states, mexico, spain, malta',\n",
       "       'Saudi arabia, united arab emirates', 'Zimbabwe',\n",
       "       'United kingdom, germany, united arab emirates, new zealand',\n",
       "       'Romania, united states', 'Canada, nigeria',\n",
       "       'Saudi arabia, netherlands, germany, jordan, united arab emirates, united states',\n",
       "       'United kingdom, spain', 'Finland, france',\n",
       "       'United kingdom, germany, united states, france',\n",
       "       'India, united kingdom, china, canada, japan, south korea, united states',\n",
       "       'Italy, united kingdom, france', 'United states, mexico, colombia',\n",
       "       'Turkey, india', 'Italy, turkey',\n",
       "       'United kingdom, united states, japan',\n",
       "       'France, belgium, united states',\n",
       "       'Puerto rico, united states, colombia', 'Uruguay, argentina',\n",
       "       'United states, united kingdom, japan', 'United states, argentina',\n",
       "       'United kingdom, italy', 'Ireland, united kingdom',\n",
       "       'United kingdom, france, belgium, canada, united states',\n",
       "       'Netherlands, germany, denmark, united kingdom', 'Hungary',\n",
       "       'Austria, germany', 'Taiwan, china',\n",
       "       'United kingdom, united states, ireland',\n",
       "       'South korea, united states', 'Brazil, united kingdom',\n",
       "       'Pakistan, united states', 'Romania, france, switzerland, germany',\n",
       "       'Romania, united kingdom', 'France, malta, united states',\n",
       "       'Cyprus',\n",
       "       'United kingdom, france, belgium, ireland, united states',\n",
       "       'United states, norway, canada', 'Kenya, united states',\n",
       "       'France, south korea, japan, united states', 'Taiwan, malaysia',\n",
       "       'Uruguay, argentina, germany, spain',\n",
       "       'United states, united kingdom, france, germany, japan',\n",
       "       'United states, france, japan',\n",
       "       'United kingdom, france, united states',\n",
       "       'Spain, france, united states',\n",
       "       'Indonesia, south korea, singapore', 'United states, spain',\n",
       "       'Netherlands, germany, italy, canada',\n",
       "       'Spain, germany, denmark, united states', 'Norway, sweden',\n",
       "       'South korea, canada, united states, china',\n",
       "       'Argentina, uruguay, serbia', 'France, japan',\n",
       "       'Mauritius, south africa', 'United states, poland',\n",
       "       'United kingdom, united states, germany, denmark, belgium, japan',\n",
       "       'India, germany', 'India, united kingdom, canada, united states',\n",
       "       'Philippines, united states', 'Romania, bulgaria, hungary',\n",
       "       'Uruguay, guatemala', 'France, senegal, belgium',\n",
       "       'United kingdom, canada', 'Mexico, united states, spain, colombia',\n",
       "       'Canada, norway', 'Singapore, united states',\n",
       "       'Finland, germany, belgium', 'United kingdom, france',\n",
       "       'United states, chile', 'United kingdom, japan, united states',\n",
       "       'Spain, united kingdom', 'United states, south korea, japan',\n",
       "       'Canada, australia', 'United kingdom, hungary, australia',\n",
       "       'Italy, belgium', 'United states, united kingdom, germany',\n",
       "       'Switzerland', 'Singapore, malaysia',\n",
       "       'France, belgium, luxembourg, romania, canada, united states',\n",
       "       'South africa, nigeria', 'Spain, france',\n",
       "       'United kingdom, hong kong', 'Pakistan', 'Brazil, united states',\n",
       "       'Denmark, brazil, france, portugal, sweden', 'India, turkey',\n",
       "       'Malaysia, singapore, hong kong', 'Philippines, singapore',\n",
       "       'Australia, canada', 'Taiwan, china, france, united states',\n",
       "       'Germany, italy', 'Colombia, peru, united kingdom',\n",
       "       'Thailand, china, united states', 'Argentina, united states',\n",
       "       'Sweden, united states', 'Uruguay, spain, mexico',\n",
       "       'France, luxembourg, canada', 'Denmark, spain', 'Chile, argentina',\n",
       "       'United kingdom, belgium, sweden', 'Canada, brazil',\n",
       "       'Italy, france', 'Canada, germany',\n",
       "       'Pakistan, united arab emirates', 'Ghana, united states',\n",
       "       'Mexico, finland', 'United arab emirates, united kingdom, india',\n",
       "       'Netherlands, belgium', 'United states, taiwan',\n",
       "       'Austria, iraq, united states', 'United kingdom, malawi',\n",
       "       'Paraguay, argentina', 'United kingdom, russia, united states',\n",
       "       'India, pakistan', 'Indonesia, singapore', 'Spain, belgium',\n",
       "       'Iceland, sweden, belgium', 'Croatia', 'Uruguay, argentina, spain',\n",
       "       'United kingdom, ireland, united states',\n",
       "       'Canada, germany, france, united states', 'United kingdom, japan',\n",
       "       'Norway, denmark, netherlands, sweden',\n",
       "       'Hong kong, china, united states', 'Ireland, canada',\n",
       "       'Italy, switzerland, france, germany', 'Mexico, netherlands',\n",
       "       'United states, sweden', 'Germany, france, russia',\n",
       "       'France, iran, united states', 'United kingdom, india',\n",
       "       'Russia, poland, serbia', 'Spain, portugal', 'Peru',\n",
       "       'Mexico, argentina',\n",
       "       'United kingdom, canada, united states, cayman islands',\n",
       "       'Indonesia, united states',\n",
       "       'United states, israel, united kingdom, canada',\n",
       "       'Norway, iceland, united states', 'Czech republic, united states',\n",
       "       'United kingdom, india, united states',\n",
       "       'United kingdom, west germany', 'India, australia',\n",
       "       'United states,', 'Belgium, united kingdom, united states',\n",
       "       'India, germany, austria',\n",
       "       'United states, brazil, south korea, mexico, japan, germany',\n",
       "       'Spain, mexico', 'China, japan', 'Argentina, france',\n",
       "       'China, united states, united kingdom',\n",
       "       'France, luxembourg, united states',\n",
       "       'China, united states, australia', 'Colombia, mexico',\n",
       "       'United states, canada, ireland', 'Chile, peru',\n",
       "       'Argentina, italy', 'Canada, japan, united states',\n",
       "       'United kingdom, canada, united states, germany',\n",
       "       'Italy, switzerland, albania, poland',\n",
       "       'United states, japan, canada', 'Cambodia',\n",
       "       'Italy, united states, argentina',\n",
       "       'Saudi arabia, syria, egypt, lebanon, kuwait',\n",
       "       'United states, canada, indonesia, united kingdom, china, singapore',\n",
       "       'Spain, colombia',\n",
       "       'United kingdom, south africa, australia, united states',\n",
       "       'Bulgaria', 'Argentina, brazil, france, poland, germany, denmark',\n",
       "       'United kingdom, spain, united states, germany',\n",
       "       'Philippines, qatar', 'Netherlands, belgium, germany, jordan',\n",
       "       'United arab emirates, united states', 'Norway, germany, sweden',\n",
       "       'South korea, china', 'Georgia', 'Soviet union, india',\n",
       "       'Australia, united arab emirates', 'Canada, germany, south africa',\n",
       "       'South korea, china, united states', 'India, soviet union',\n",
       "       'India, mexico', 'Georgia, germany, france',\n",
       "       'United arab emirates, romania', 'India, malaysia',\n",
       "       'Germany, jordan, netherlands', 'Turkey, france, germany, poland',\n",
       "       'Greece, united states', 'France, united kingdom, united states',\n",
       "       'Norway, germany', 'France, morocco', 'Cambodia, united states',\n",
       "       'United states, denmark', 'United states, colombia, mexico',\n",
       "       'United kingdom, italy, israel, peru, united states',\n",
       "       'Argentina, uruguay, spain, france',\n",
       "       'United kingdom, france, united states, belgium',\n",
       "       'France, canada, china, cambodia',\n",
       "       'United kingdom, france, belgium, united states', 'Chile, france',\n",
       "       'Netherlands, united states', 'France, united kingdom, india',\n",
       "       'Czech republic, slovakia', 'Singapore, france',\n",
       "       'Spain, switzerland', 'United states, australia, china',\n",
       "       'South africa, united states, germany',\n",
       "       'United states, united kingdom, australia',\n",
       "       'Spain, italy, argentina', 'Chile, spain, argentina, germany',\n",
       "       'West germany', 'Austria, czech republic', 'Lebanon, qatar',\n",
       "       'United kingdom, jordan, qatar, iran',\n",
       "       'France, south korea, japan', 'Israel, germany, france',\n",
       "       'United states, hungary', 'France, germany', 'France, qatar',\n",
       "       'United kingdom, germany, canada', 'Ireland, south africa',\n",
       "       'Chile, united states, france', 'Belgium, france, netherlands',\n",
       "       'United kingdom, ukraine, united states',\n",
       "       'Germany, australia, france, china', 'Norway, united states',\n",
       "       'United states, bermuda, ecuador',\n",
       "       'United states, hungary, ireland, canada',\n",
       "       'United kingdom, egypt, united states',\n",
       "       'United states, france, united kingdom', 'Spain, mexico, france',\n",
       "       'United states, south africa', 'Hong kong, china, singapore',\n",
       "       'South africa, china, united states', 'Denmark, france, poland',\n",
       "       'New zealand, united kingdom',\n",
       "       'Netherlands, denmark, south africa', 'Iran, france',\n",
       "       'United kingdom, united states, france, germany',\n",
       "       'Australia, france', 'Ireland, united kingdom, united states',\n",
       "       'United kingdom, france, germany', 'Canada, luxembourg',\n",
       "       'Brazil, netherlands, united states, colombia, austria, germany',\n",
       "       'France, canada, belgium', 'Canada, france',\n",
       "       'Bulgaria, united states, spain, canada', 'Sweden, netherlands',\n",
       "       'France, united states, mexico',\n",
       "       'Australia, united kingdom, united arab emirates, canada',\n",
       "       'Australia, armenia, japan, jordan, mexico, mongolia, new zealand, philippines, south africa, sweden, united states, uruguay',\n",
       "       'India, iran', 'France, belgium, spain',\n",
       "       'Denmark, sweden, israel, united states', 'United states, iceland',\n",
       "       'United kingdom, russia',\n",
       "       'United states, israel, italy, south africa',\n",
       "       'Netherlands, denmark, france, germany', 'South korea, japan',\n",
       "       'United kingdom, pakistan', 'France, new zealand',\n",
       "       'United kingdom, czech republic, united states, germany, bahamas',\n",
       "       'China, germany, india, united states', 'Germany, sri lanka',\n",
       "       'United states, india, bangladesh',\n",
       "       'United states, canada, france', 'Brazil, france, germany',\n",
       "       'Germany, united states, hong kong, singapore',\n",
       "       'France, germany, switzerland',\n",
       "       'Germany, france, luxembourg, united kingdom, united states',\n",
       "       'United kingdom, canada, italy', 'Czech republic, france',\n",
       "       'Taiwan, hong kong, united states, china', 'Germany, australia',\n",
       "       'United kingdom, poland, united states', 'Denmark, zimbabwe',\n",
       "       'United kingdom, south africa',\n",
       "       'Finland, sweden, norway, latvia, germany',\n",
       "       'South africa, united states, new zealand, canada',\n",
       "       'United states, italy, united kingdom, liechtenstein',\n",
       "       'Denmark, france, belgium, italy, netherlands, united states, united kingdom',\n",
       "       'United states, australia, mexico',\n",
       "       'United kingdom, czech republic, germany, united states',\n",
       "       'France, china, japan, united states',\n",
       "       'United states, south korea, china', 'Germany, belgium',\n",
       "       'Pakistan, norway, united states',\n",
       "       'United states, canada, belgium, united kingdom', 'Venezuela',\n",
       "       'Canada, france, italy, morocco, united states',\n",
       "       'Canada, spain, france', 'United states, indonesia',\n",
       "       'Spain, france, italy',\n",
       "       'United arab emirates, united states, united kingdom',\n",
       "       'United kingdom, israel, russia', 'Spain, cuba',\n",
       "       'United states, brazil', 'United states, france, mexico',\n",
       "       'United states, nicaragua',\n",
       "       'United kingdom, united states, spain, germany, greece, canada',\n",
       "       'Italy, canada, france',\n",
       "       'United kingdom, denmark, canada, croatia', 'Italy, germany',\n",
       "       'United states, france, united kingdom, japan',\n",
       "       'United states, united kingdom, denmark, sweden',\n",
       "       'United states, united kingdom, italy',\n",
       "       'United states, france, canada, spain',\n",
       "       'Russia, united states, china', 'United states, canada, germany',\n",
       "       'Ireland, united states', 'United states, united arab emirates',\n",
       "       'United states, ireland',\n",
       "       'Ireland, united kingdom, italy, united states', 'Poland,',\n",
       "       'Slovenia, croatia, germany, czech republic, qatar',\n",
       "       'Canada, united kingdom, netherlands',\n",
       "       'United states, spain, germany', 'India, japan',\n",
       "       'China, south korea, united states',\n",
       "       'United kingdom, france, belgium',\n",
       "       'Canada, ireland, united states',\n",
       "       'United kingdom, united states, dominican republic',\n",
       "       'United states, senegal', 'Germany, united kingdom, united states',\n",
       "       'South africa, germany, netherlands, france',\n",
       "       'Canada, united states, united kingdom, france, luxembourg',\n",
       "       'Ireland, united states, france', 'Germany, united states, canada',\n",
       "       'United kingdom, germany, canada, united states',\n",
       "       'United states, france, canada, lebanon, qatar',\n",
       "       'Netherlands, belgium, united kingdom, united states',\n",
       "       'France, belgium, china, united states',\n",
       "       'United states, chile, israel',\n",
       "       'United kingdom, norway, denmark, germany, sweden',\n",
       "       'Norway, denmark, sweden', 'China, india, nepal',\n",
       "       'Colombia, mexico, united states', 'United kingdom, south korea',\n",
       "       'Denmark, china', 'United states, greece, brazil',\n",
       "       'South korea, france',\n",
       "       'United states, australia, samoa, united kingdom',\n",
       "       'Germany, united kingdom', 'Argentina, chile, peru',\n",
       "       'Turkey, azerbaijan', 'Poland, west germany',\n",
       "       'Germany, united states, sweden', 'Canada, spain',\n",
       "       'United states, cambodia', 'United states, greece',\n",
       "       'Norway, united kingdom, france, ireland',\n",
       "       'United kingdom, poland', 'Israel, sweden, germany, netherlands',\n",
       "       'Switzerland, france', 'Italy, india', 'United states, botswana',\n",
       "       'Chile, argentina, france, spain, united states',\n",
       "       'United states, india, south korea, china',\n",
       "       'Denmark, germany, belgium, united kingdom, france',\n",
       "       'Denmark, germany, belgium, united kingdom, france, sweden',\n",
       "       'France, switzerland, spain, united states, united arab emirates',\n",
       "       'Brazil, india, china, united states',\n",
       "       'Denmark, france, united states, sweden', 'Australia, iraq',\n",
       "       'China, morocco, hong kong', 'Canada, united states, germany',\n",
       "       'United kingdom, thailand', 'Venezuela, colombia',\n",
       "       'Colombia, united states',\n",
       "       'France, germany, czech republic, belgium',\n",
       "       'Switzerland, vatican city, italy, germany, france',\n",
       "       'Portugal, france, poland, united states',\n",
       "       'United states, new zealand, japan',\n",
       "       'United states, netherlands, japan, france', 'India, switzerland',\n",
       "       'Canada, india', 'United states, morocco',\n",
       "       'Singapore, japan, france',\n",
       "       'Canada, mexico, germany, south africa',\n",
       "       'United kingdom, united states, canada',\n",
       "       'Germany, france, united states, canada, united kingdom',\n",
       "       'United states, uruguay', 'India, canada',\n",
       "       'Ireland, canada, united kingdom, united states',\n",
       "       'United states, germany, australia', 'Australia, france, ireland',\n",
       "       'Australia, india', 'United states, united kingdom, canada, japan',\n",
       "       'Sweden, united kingdom, finland', 'Hong kong, taiwan',\n",
       "       'United states, united kingdom, spain, south korea', 'Guatemala',\n",
       "       'Ukraine',\n",
       "       'Italy, south africa, west germany, australia, united states',\n",
       "       'United states, germany, united kingdom, australia',\n",
       "       'Italy, france, switzerland', 'Canada, france, united states',\n",
       "       'Switzerland, united states', 'Thailand, canada, united states',\n",
       "       'China, hong kong, united states', 'United kingdom, new zealand',\n",
       "       'Czech republic, united kingdom, france',\n",
       "       'Australia, united kingdom, canada', 'Jamaica, united states',\n",
       "       'Australia, united kingdom, united states, new zealand, italy, france',\n",
       "       'France, united states, canada',\n",
       "       'United kingdom, france, canada, belgium, united states',\n",
       "       'Denmark, united kingdom, sweden', 'United states, hong kong',\n",
       "       'United states, kazakhstan',\n",
       "       'Argentina, france, united states, germany, qatar',\n",
       "       'United states, germany, united kingdom',\n",
       "       'United states, germany, united kingdom, italy',\n",
       "       'United states, new zealand, united kingdom',\n",
       "       'Finland, united states', 'Spain, france, uruguay',\n",
       "       'France, canada, united states', 'United states, canada, china',\n",
       "       'Ireland, canada, luxembourg, united states, united kingdom, philippines, india',\n",
       "       'United states, czech republic, united kingdom', 'Israel, germany',\n",
       "       'Mexico, france',\n",
       "       'Israel, germany, poland, luxembourg, belgium, france, united states',\n",
       "       'Austria, united states', 'United kingdom, lithuania',\n",
       "       'United states, greece, united kingdom',\n",
       "       'United kingdom, china, united states, india',\n",
       "       'United states, sweden, norway',\n",
       "       'United kingdom, united states, morocco',\n",
       "       'United states, united kingdom, morocco',\n",
       "       'Spain, canada, united states',\n",
       "       'United states, india, united arab emirates',\n",
       "       'United kingdom, canada, france, united states',\n",
       "       'India, germany, france',\n",
       "       'Belgium, ireland, netherlands, germany, afghanistan',\n",
       "       'France, canada, italy, united states, china',\n",
       "       'Ireland, united kingdom, greece, france, netherlands',\n",
       "       'Denmark, indonesia, finland, norway, united kingdom, israel, france, united states, germany, netherlands',\n",
       "       'New zealand, united states',\n",
       "       'United states, australia, south africa, united kingdom',\n",
       "       'United states, germany, mexico',\n",
       "       'Somalia, kenya, sudan, south africa, united states',\n",
       "       'United states, canada, japan, panama',\n",
       "       'United kingdom, spain, belgium', 'Serbia, south korea, slovenia',\n",
       "       'Denmark, united kingdom, south africa, sweden, belgium',\n",
       "       'Germany, canada, united states',\n",
       "       'Ireland, canada, united states, united kingdom',\n",
       "       'New zealand, united kingdom, australia',\n",
       "       'United kingdom, australia, canada, united states',\n",
       "       'Germany, united states, italy', 'United states, venezuela',\n",
       "       'United kingdom, canada, japan',\n",
       "       'United kingdom, united states, czech republic',\n",
       "       'United kingdom, china, united states',\n",
       "       'United kingdom, brazil, germany',\n",
       "       'United kingdom, namibia, south africa, zimbabwe, united states',\n",
       "       'Canada, united states, india, united kingdom',\n",
       "       'Switzerland, united kingdom, united states',\n",
       "       'United kingdom, india, sweden',\n",
       "       'United states, brazil, india, uganda, china',\n",
       "       'Peru, united states, united kingdom',\n",
       "       'Germany, united states, united kingdom, canada',\n",
       "       'Canada, india, thailand, united states, united arab emirates',\n",
       "       'United states, east germany, west germany',\n",
       "       'France, netherlands, south africa, finland',\n",
       "       'Egypt, austria, united states', 'Russia, spain',\n",
       "       'Croatia, slovenia, serbia, montenegro', 'Japan, canada',\n",
       "       'United states, france, south korea, indonesia',\n",
       "       'United arab emirates, jordan'], dtype=object)"
      ]
     },
     "execution_count": 26,
     "metadata": {},
     "output_type": "execute_result"
    }
   ],
   "source": [
    "net_df['country'].unique()"
   ]
  },
  {
   "cell_type": "code",
   "execution_count": 28,
   "id": "ffa7fc6b",
   "metadata": {},
   "outputs": [
    {
     "data": {
      "text/plain": [
       "United states     0.319394\n",
       "India             0.110757\n",
       "Unknown           0.094462\n",
       "United kingdom    0.047630\n",
       "Japan             0.027689\n",
       "Name: country, dtype: float64"
      ]
     },
     "execution_count": 28,
     "metadata": {},
     "output_type": "execute_result"
    }
   ],
   "source": [
    "net_df['country'].value_counts(normalize = True)[:5]"
   ]
  },
  {
   "cell_type": "code",
   "execution_count": 29,
   "id": "ad714148",
   "metadata": {},
   "outputs": [
    {
     "data": {
      "text/plain": [
       "<AxesSubplot:>"
      ]
     },
     "execution_count": 29,
     "metadata": {},
     "output_type": "execute_result"
    },
    {
     "data": {
      "image/png": "[encoded data removed]",
      "text/plain": [
       "<Figure size 640x480 with 1 Axes>"
      ]
     },
     "metadata": {},
     "output_type": "display_data"
    }
   ],
   "source": [
    "net_df['country'].value_counts(normalize=True)[:5].plot.bar()"
   ]
  },
  {
   "cell_type": "code",
   "execution_count": 30,
   "id": "f3dbc7b4",
   "metadata": {},
   "outputs": [
    {
     "name": "stderr",
     "output_type": "stream",
     "text": [
      "C:\\ProgramData\\Anaconda3\\lib\\site-packages\\seaborn\\distributions.py:2619: FutureWarning: `distplot` is a deprecated function and will be removed in a future version. Please adapt your code to use either `displot` (a figure-level function with similar flexibility) or `histplot` (an axes-level function for histograms).\n",
      "  warnings.warn(msg, FutureWarning)\n"
     ]
    },
    {
     "data": {
      "text/plain": [
       "<AxesSubplot:xlabel='added_year', ylabel='Density'>"
      ]
     },
     "execution_count": 30,
     "metadata": {},
     "output_type": "execute_result"
    },
    {
     "data": {
      "image/png": "[encoded data removed]",
      "text/plain": [
       "<Figure size 640x480 with 1 Axes>"
      ]
     },
     "metadata": {},
     "output_type": "display_data"
    }
   ],
   "source": [
    "sns.distplot(net_df['added_year'])"
   ]
  },
  {
   "cell_type": "code",
   "execution_count": 31,
   "id": "4a69ced7",
   "metadata": {},
   "outputs": [
    {
     "data": {
      "text/plain": [
       "<AxesSubplot:xlabel='added_year', ylabel='count'>"
      ]
     },
     "execution_count": 31,
     "metadata": {},
     "output_type": "execute_result"
    },
    {
     "data": {
      "image/png": "[encoded data removed]",
      "text/plain": [
       "<Figure size 1200x800 with 1 Axes>"
      ]
     },
     "metadata": {},
     "output_type": "display_data"
    }
   ],
   "source": [
    "plt.figure(figsize = (12,8))\n",
    "sns.countplot(x = net_df['added_year'])"
   ]
  },
  {
   "cell_type": "code",
   "execution_count": 32,
   "id": "9fe29e6b",
   "metadata": {},
   "outputs": [
    {
     "data": {
      "text/plain": [
       "<AxesSubplot:>"
      ]
     },
     "execution_count": 32,
     "metadata": {},
     "output_type": "execute_result"
    },
    {
     "data": {
      "image/png": "[encoded data removed]",
      "text/plain": [
       "<Figure size 640x480 with 1 Axes>"
      ]
     },
     "metadata": {},
     "output_type": "display_data"
    }
   ],
   "source": [
    "net_df['added_month'].value_counts(normalize = True).plot.bar()"
   ]
  },
  {
   "cell_type": "code",
   "execution_count": 33,
   "id": "425c6f0f",
   "metadata": {},
   "outputs": [
    {
     "data": {
      "text/plain": [
       "<AxesSubplot:>"
      ]
     },
     "execution_count": 33,
     "metadata": {},
     "output_type": "execute_result"
    },
    {
     "data": {
      "image/png": "[encoded data removed]",
      "text/plain": [
       "<Figure size 640x480 with 1 Axes>"
      ]
     },
     "metadata": {},
     "output_type": "display_data"
    }
   ],
   "source": [
    "net_df.rating.value_counts(normalize = True)[:5].plot.bar()"
   ]
  },
  {
   "cell_type": "code",
   "execution_count": 34,
   "id": "e329147d",
   "metadata": {},
   "outputs": [],
   "source": [
    "genre_list = net_df['listed_in'].str.split(',')"
   ]
  },
  {
   "cell_type": "code",
   "execution_count": 35,
   "id": "ca7a47bf",
   "metadata": {},
   "outputs": [],
   "source": [
    "net_df['genre_1'] = genre_list.str.get(0)\n",
    "net_df['genre_2'] = genre_list.str.get(1)\n",
    "net_df['genre_3'] = genre_list.str.get(2)"
   ]
  },
  {
   "cell_type": "code",
   "execution_count": 36,
   "id": "bc728d54",
   "metadata": {},
   "outputs": [],
   "source": [
    "net_df.drop('listed_in',axis =1,inplace =True)"
   ]
  },
  {
   "cell_type": "code",
   "execution_count": 37,
   "id": "3463aec9",
   "metadata": {},
   "outputs": [
    {
     "data": {
      "text/html": [
       "<div>\n",
       "<style scoped>\n",
       "    .dataframe tbody tr th:only-of-type {\n",
       "        vertical-align: middle;\n",
       "    }\n",
       "\n",
       "    .dataframe tbody tr th {\n",
       "        vertical-align: top;\n",
       "    }\n",
       "\n",
       "    .dataframe thead th {\n",
       "        text-align: right;\n",
       "    }\n",
       "</style>\n",
       "<table border=\"1\" class=\"dataframe\">\n",
       "  <thead>\n",
       "    <tr style=\"text-align: right;\">\n",
       "      <th></th>\n",
       "      <th>show_id</th>\n",
       "      <th>type</th>\n",
       "      <th>title</th>\n",
       "      <th>director</th>\n",
       "      <th>cast</th>\n",
       "      <th>country</th>\n",
       "      <th>release_year</th>\n",
       "      <th>rating</th>\n",
       "      <th>duration</th>\n",
       "      <th>description</th>\n",
       "      <th>added_month</th>\n",
       "      <th>added_year</th>\n",
       "      <th>genre_1</th>\n",
       "      <th>genre_2</th>\n",
       "      <th>genre_3</th>\n",
       "    </tr>\n",
       "  </thead>\n",
       "  <tbody>\n",
       "    <tr>\n",
       "      <th>0</th>\n",
       "      <td>s1</td>\n",
       "      <td>Movie</td>\n",
       "      <td>Dick Johnson Is Dead</td>\n",
       "      <td>Kirsten Johnson</td>\n",
       "      <td>unknown</td>\n",
       "      <td>United states</td>\n",
       "      <td>2020</td>\n",
       "      <td>PG-13</td>\n",
       "      <td>90 min</td>\n",
       "      <td>As her father nears the end of his life, filmm...</td>\n",
       "      <td>September</td>\n",
       "      <td>2021</td>\n",
       "      <td>Documentaries</td>\n",
       "      <td>NaN</td>\n",
       "      <td>NaN</td>\n",
       "    </tr>\n",
       "    <tr>\n",
       "      <th>1</th>\n",
       "      <td>s2</td>\n",
       "      <td>TV Show</td>\n",
       "      <td>Blood &amp; Water</td>\n",
       "      <td>unknown</td>\n",
       "      <td>Ama Qamata, Khosi Ngema, Gail Mabalane, Thaban...</td>\n",
       "      <td>South africa</td>\n",
       "      <td>2021</td>\n",
       "      <td>TV-MA</td>\n",
       "      <td>2 Seasons</td>\n",
       "      <td>After crossing paths at a party, a Cape Town t...</td>\n",
       "      <td>September</td>\n",
       "      <td>2021</td>\n",
       "      <td>International TV Shows</td>\n",
       "      <td>TV Dramas</td>\n",
       "      <td>TV Mysteries</td>\n",
       "    </tr>\n",
       "    <tr>\n",
       "      <th>2</th>\n",
       "      <td>s3</td>\n",
       "      <td>TV Show</td>\n",
       "      <td>Ganglands</td>\n",
       "      <td>Julien Leclercq</td>\n",
       "      <td>Sami Bouajila, Tracy Gotoas, Samuel Jouy, Nabi...</td>\n",
       "      <td>Unknown</td>\n",
       "      <td>2021</td>\n",
       "      <td>TV-MA</td>\n",
       "      <td>1 Season</td>\n",
       "      <td>To protect his family from a powerful drug lor...</td>\n",
       "      <td>September</td>\n",
       "      <td>2021</td>\n",
       "      <td>Crime TV Shows</td>\n",
       "      <td>International TV Shows</td>\n",
       "      <td>TV Action &amp; Adventure</td>\n",
       "    </tr>\n",
       "    <tr>\n",
       "      <th>3</th>\n",
       "      <td>s4</td>\n",
       "      <td>TV Show</td>\n",
       "      <td>Jailbirds New Orleans</td>\n",
       "      <td>unknown</td>\n",
       "      <td>unknown</td>\n",
       "      <td>Unknown</td>\n",
       "      <td>2021</td>\n",
       "      <td>TV-MA</td>\n",
       "      <td>1 Season</td>\n",
       "      <td>Feuds, flirtations and toilet talk go down amo...</td>\n",
       "      <td>September</td>\n",
       "      <td>2021</td>\n",
       "      <td>Docuseries</td>\n",
       "      <td>Reality TV</td>\n",
       "      <td>NaN</td>\n",
       "    </tr>\n",
       "    <tr>\n",
       "      <th>4</th>\n",
       "      <td>s5</td>\n",
       "      <td>TV Show</td>\n",
       "      <td>Kota Factory</td>\n",
       "      <td>unknown</td>\n",
       "      <td>Mayur More, Jitendra Kumar, Ranjan Raj, Alam K...</td>\n",
       "      <td>India</td>\n",
       "      <td>2021</td>\n",
       "      <td>TV-MA</td>\n",
       "      <td>2 Seasons</td>\n",
       "      <td>In a city of coaching centers known to train I...</td>\n",
       "      <td>September</td>\n",
       "      <td>2021</td>\n",
       "      <td>International TV Shows</td>\n",
       "      <td>Romantic TV Shows</td>\n",
       "      <td>TV Comedies</td>\n",
       "    </tr>\n",
       "  </tbody>\n",
       "</table>\n",
       "</div>"
      ],
      "text/plain": [
       "  show_id     type                  title         director  \\\n",
       "0      s1    Movie   Dick Johnson Is Dead  Kirsten Johnson   \n",
       "1      s2  TV Show          Blood & Water          unknown   \n",
       "2      s3  TV Show              Ganglands  Julien Leclercq   \n",
       "3      s4  TV Show  Jailbirds New Orleans          unknown   \n",
       "4      s5  TV Show           Kota Factory          unknown   \n",
       "\n",
       "                                                cast        country  \\\n",
       "0                                            unknown  United states   \n",
       "1  Ama Qamata, Khosi Ngema, Gail Mabalane, Thaban...   South africa   \n",
       "2  Sami Bouajila, Tracy Gotoas, Samuel Jouy, Nabi...        Unknown   \n",
       "3                                            unknown        Unknown   \n",
       "4  Mayur More, Jitendra Kumar, Ranjan Raj, Alam K...          India   \n",
       "\n",
       "   release_year rating   duration  \\\n",
       "0          2020  PG-13     90 min   \n",
       "1          2021  TV-MA  2 Seasons   \n",
       "2          2021  TV-MA   1 Season   \n",
       "3          2021  TV-MA   1 Season   \n",
       "4          2021  TV-MA  2 Seasons   \n",
       "\n",
       "                                         description added_month  added_year  \\\n",
       "0  As her father nears the end of his life, filmm...   September        2021   \n",
       "1  After crossing paths at a party, a Cape Town t...   September        2021   \n",
       "2  To protect his family from a powerful drug lor...   September        2021   \n",
       "3  Feuds, flirtations and toilet talk go down amo...   September        2021   \n",
       "4  In a city of coaching centers known to train I...   September        2021   \n",
       "\n",
       "                  genre_1                  genre_2                 genre_3  \n",
       "0           Documentaries                      NaN                     NaN  \n",
       "1  International TV Shows                TV Dramas            TV Mysteries  \n",
       "2          Crime TV Shows   International TV Shows   TV Action & Adventure  \n",
       "3              Docuseries               Reality TV                     NaN  \n",
       "4  International TV Shows        Romantic TV Shows             TV Comedies  "
      ]
     },
     "execution_count": 37,
     "metadata": {},
     "output_type": "execute_result"
    }
   ],
   "source": [
    "net_df.head()"
   ]
  },
  {
   "cell_type": "code",
   "execution_count": 38,
   "id": "47c413cf",
   "metadata": {},
   "outputs": [
    {
     "data": {
      "text/plain": [
       "<AxesSubplot:>"
      ]
     },
     "execution_count": 38,
     "metadata": {},
     "output_type": "execute_result"
    },
    {
     "data": {
      "image/png": "[encoded data removed]",
      "text/plain": [
       "<Figure size 640x480 with 1 Axes>"
      ]
     },
     "metadata": {},
     "output_type": "display_data"
    }
   ],
   "source": [
    "net_df['genre_1'].value_counts(normalize=True)[:5].plot.bar()"
   ]
  },
  {
   "cell_type": "markdown",
   "id": "c92a4466",
   "metadata": {},
   "source": [
    "### Bivariate Analysis"
   ]
  },
  {
   "cell_type": "code",
   "execution_count": 40,
   "id": "2f7ec97c",
   "metadata": {},
   "outputs": [],
   "source": [
    "temp_df = net_df[net_df['country'].isin(net_df['country'].value_counts()[:5].index)]"
   ]
  },
  {
   "cell_type": "code",
   "execution_count": 41,
   "id": "2db65027",
   "metadata": {},
   "outputs": [
    {
     "data": {
      "text/plain": [
       "<AxesSubplot:xlabel='country', ylabel='count'>"
      ]
     },
     "execution_count": 41,
     "metadata": {},
     "output_type": "execute_result"
    },
    {
     "data": {
      "image/png": "[encoded data removed]",
      "text/plain": [
       "<Figure size 640x480 with 1 Axes>"
      ]
     },
     "metadata": {},
     "output_type": "display_data"
    }
   ],
   "source": [
    "sns.countplot(data=temp_df,x='country',hue='type')"
   ]
  },
  {
   "cell_type": "code",
   "execution_count": 42,
   "id": "01651cdb",
   "metadata": {},
   "outputs": [
    {
     "data": {
      "text/plain": [
       "['United states', 'India', 'Unknown', 'United kingdom', 'Japan']"
      ]
     },
     "execution_count": 42,
     "metadata": {},
     "output_type": "execute_result"
    }
   ],
   "source": [
    "list(net_df['country'].value_counts()[:5].index)"
   ]
  },
  {
   "cell_type": "code",
   "execution_count": 43,
   "id": "44eb2311",
   "metadata": {},
   "outputs": [
    {
     "data": {
      "text/plain": [
       "<AxesSubplot:xlabel='country', ylabel='count'>"
      ]
     },
     "execution_count": 43,
     "metadata": {},
     "output_type": "execute_result"
    },
    {
     "data": {
      "image/png": "[encoded data removed]",
      "text/plain": [
       "<Figure size 640x480 with 1 Axes>"
      ]
     },
     "metadata": {},
     "output_type": "display_data"
    }
   ],
   "source": [
    "sns.countplot(data=temp_df,x='country',hue='rating')"
   ]
  },
  {
   "cell_type": "code",
   "execution_count": 44,
   "id": "a77448fa",
   "metadata": {},
   "outputs": [
    {
     "data": {
      "text/plain": [
       "<AxesSubplot:xlabel='country', ylabel='count'>"
      ]
     },
     "execution_count": 44,
     "metadata": {},
     "output_type": "execute_result"
    },
    {
     "data": {
      "image/png": "[encoded data removed]",
      "text/plain": [
       "<Figure size 640x480 with 1 Axes>"
      ]
     },
     "metadata": {},
     "output_type": "display_data"
    }
   ],
   "source": [
    "sns.countplot(data=temp_df,x='country',hue='genre_1')"
   ]
  },
  {
   "cell_type": "code",
   "execution_count": null,
   "id": "69ea93b3",
   "metadata": {},
   "outputs": [],
   "source": []
  }
 ],
 "metadata": {
  "kernelspec": {
   "display_name": "Python 3 (ipykernel)",
   "language": "python",
   "name": "python3"
  },
  "language_info": {
   "codemirror_mode": {
    "name": "ipython",
    "version": 3
   },
   "file_extension": ".py",
   "mimetype": "text/x-python",
   "name": "python",
   "nbconvert_exporter": "python",
   "pygments_lexer": "ipython3",
   "version": "3.9.13"
  }
 },
 "nbformat": 4,
 "nbformat_minor": 5
}
